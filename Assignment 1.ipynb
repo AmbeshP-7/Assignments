{
 "cells": [
  {
   "cell_type": "code",
   "execution_count": 1,
   "id": "664fa971-f557-43fa-98da-eb56f09be4f2",
   "metadata": {},
   "outputs": [],
   "source": [
    "## answer 1\n",
    "##The def keyword is used to declare and define functions in Python"
   ]
  },
  {
   "cell_type": "code",
   "execution_count": 1,
   "id": "778b184b-03f8-4808-bd4d-5b56ae6e076a",
   "metadata": {},
   "outputs": [
    {
     "name": "stdout",
     "output_type": "stream",
     "text": [
      "[1, 3, 5, 7, 9, 11, 13, 15, 17, 19, 21, 23, 25]\n"
     ]
    }
   ],
   "source": [
    "def odd_numbers_in_range():\n",
    "    odd_numbers = []\n",
    "    for number in range(1, 26):\n",
    "        if number % 2 != 0:\n",
    "            odd_numbers.append(number)\n",
    "    return odd_numbers\n",
    "\n",
    "result = odd_numbers_in_range()\n",
    "print(result)"
   ]
  },
  {
   "cell_type": "code",
   "execution_count": 5,
   "id": "a8e4e195-fab4-4523-82c6-a73f7a3ccb7a",
   "metadata": {},
   "outputs": [],
   "source": [
    "## answer2\n",
    "#  In Python, args and kwargs are used as parameters in function definitions to allow you to work with a variable number of arguments\n",
    "#   and keyword arguments, respectively. They are often used when you want to create flexible and generic functions that can handle \n",
    "#    different input scenarios."
   ]
  },
  {
   "cell_type": "code",
   "execution_count": 6,
   "id": "a87e84be-01a5-4e31-9e63-85deafca4ad6",
   "metadata": {},
   "outputs": [],
   "source": [
    "def test1(*args):\n",
    "    return args"
   ]
  },
  {
   "cell_type": "code",
   "execution_count": 11,
   "id": "7cd5597a-0eb0-43df-85a1-0a7a5b646b20",
   "metadata": {},
   "outputs": [
    {
     "data": {
      "text/plain": [
       "(22, 35, 45, 8, 9, 7)"
      ]
     },
     "execution_count": 11,
     "metadata": {},
     "output_type": "execute_result"
    }
   ],
   "source": [
    "test1(22,35,45,8,9,7)"
   ]
  },
  {
   "cell_type": "code",
   "execution_count": 12,
   "id": "f895b7b4-8ee4-45fa-95d3-9a5060ed50bc",
   "metadata": {},
   "outputs": [
    {
     "data": {
      "text/plain": [
       "tuple"
      ]
     },
     "execution_count": 12,
     "metadata": {},
     "output_type": "execute_result"
    }
   ],
   "source": [
    "type(test1())"
   ]
  },
  {
   "cell_type": "code",
   "execution_count": 13,
   "id": "07d2346e-2be2-401a-8621-14f7f2efc082",
   "metadata": {},
   "outputs": [],
   "source": [
    "def test2(**kwargs):\n",
    "    return kwargs"
   ]
  },
  {
   "cell_type": "code",
   "execution_count": 14,
   "id": "8934dbb3-3a76-43b0-a3f9-83404ab52253",
   "metadata": {},
   "outputs": [
    {
     "data": {
      "text/plain": [
       "dict"
      ]
     },
     "execution_count": 14,
     "metadata": {},
     "output_type": "execute_result"
    }
   ],
   "source": [
    "type(test2())"
   ]
  },
  {
   "cell_type": "code",
   "execution_count": 15,
   "id": "53ef2378-f8fd-4e22-92b4-57a5eeb60820",
   "metadata": {},
   "outputs": [
    {
     "data": {
      "text/plain": [
       "{'a': [1, 2, 3, 4, 5, 6, 7, 8, 9, 0, 10, 1, 1, 2, 3], 'b': 'shiv', 'c': 47.66}"
      ]
     },
     "execution_count": 15,
     "metadata": {},
     "output_type": "execute_result"
    }
   ],
   "source": [
    "test2(a=[1,2,3,4,5,6,7,8,9,0,10,1,1,2,3], b='shiv', c= 47.66)"
   ]
  },
  {
   "cell_type": "code",
   "execution_count": 17,
   "id": "70c8e637-fe6d-4804-8ae8-a87ef422f661",
   "metadata": {},
   "outputs": [],
   "source": [
    "# answer3\n",
    "#  In Python, an iterator is an object that represents a sequence of data. \n",
    "#    It provides a way to access the elements of a collection, \n",
    "#      such as a list, tuple, or dictionary. Iterators are\n",
    "#        used for loops, list comprehensions, and generators."
   ]
  },
  {
   "cell_type": "code",
   "execution_count": 18,
   "id": "5e6c469c-916a-4c7e-bc5f-a64be614d3dd",
   "metadata": {},
   "outputs": [],
   "source": [
    "# the method used to initialize the iterator object is called __init__() and the method used for iteration is called __next__()."
   ]
  },
  {
   "cell_type": "code",
   "execution_count": 19,
   "id": "f9d619bc-80c0-4025-ac7a-4e3f47540123",
   "metadata": {},
   "outputs": [
    {
     "name": "stdout",
     "output_type": "stream",
     "text": [
      "2\n",
      "4\n",
      "6\n",
      "8\n",
      "10\n"
     ]
    }
   ],
   "source": [
    "class MyIterator:\n",
    "    def __init__(self, data):\n",
    "        self.data = data\n",
    "        self.index = 0\n",
    "\n",
    "    def __iter__(self):\n",
    "        return self\n",
    "\n",
    "    def __next__(self):\n",
    "        if self.index < len(self.data):\n",
    "            result = self.data[self.index]\n",
    "            self.index += 1\n",
    "            return result\n",
    "        else:\n",
    "            raise StopIteration\n",
    "\n",
    "my_list = [2, 4, 6, 8, 10, 12, 14, 16, 18, 20]\n",
    "\n",
    "my_iterator = MyIterator(my_list)\n",
    "\n",
    "\n",
    "for _ in range(5):\n",
    "    element = next(my_iterator)\n",
    "    print(element)\n"
   ]
  },
  {
   "cell_type": "code",
   "execution_count": 27,
   "id": "6b17f385-a329-4089-bd5b-07954a6c5f87",
   "metadata": {},
   "outputs": [],
   "source": [
    "# answer 4\n",
    "#  In Python, a generator function is a special type of function that allows you to create iterators in a more concise and memory-efficient way.\n",
    "#  Generator functions are defined using a yield statement rather than a return statement. When a generator function is called, it returns a \n",
    "#   generator object, which can be used to iterate over a sequence of values produced by the generator function."
   ]
  },
  {
   "cell_type": "code",
   "execution_count": 21,
   "id": "bbc7937e-bf6d-4028-88da-eb8f8e8d0d82",
   "metadata": {},
   "outputs": [],
   "source": [
    "#  Instead of using return to return a value and exit the function, generator functions use the yield keyword to yield a value and \n",
    "#       temporarily suspend the function's state.The function can be resumed from where it left off when the next value is requested."
   ]
  },
  {
   "cell_type": "code",
   "execution_count": 22,
   "id": "af05de30-809b-4610-9752-fe854a03b882",
   "metadata": {},
   "outputs": [],
   "source": [
    "def test_fib(n):\n",
    "    a,b=0,1\n",
    "    for i in range (n):\n",
    "        yield a\n",
    "        a,b=b , a+b"
   ]
  },
  {
   "cell_type": "code",
   "execution_count": 23,
   "id": "f70fb0ef-1804-4606-87fe-55cda2804760",
   "metadata": {},
   "outputs": [
    {
     "data": {
      "text/plain": [
       "<generator object test_fib at 0x7f33aa19a180>"
      ]
     },
     "execution_count": 23,
     "metadata": {},
     "output_type": "execute_result"
    }
   ],
   "source": [
    "test_fib(10)"
   ]
  },
  {
   "cell_type": "code",
   "execution_count": 24,
   "id": "2b63eee8-f0d0-4592-aa73-8b0919887c0e",
   "metadata": {},
   "outputs": [
    {
     "name": "stdout",
     "output_type": "stream",
     "text": [
      "0\n",
      "1\n",
      "1\n",
      "2\n",
      "3\n",
      "5\n",
      "8\n",
      "13\n",
      "21\n",
      "34\n"
     ]
    }
   ],
   "source": [
    "for i in test_fib(10):\n",
    "    print (i)"
   ]
  },
  {
   "cell_type": "code",
   "execution_count": 28,
   "id": "25bed12c-60bc-4427-875f-5d40bdc628f0",
   "metadata": {},
   "outputs": [],
   "source": [
    "# answer 5"
   ]
  },
  {
   "cell_type": "code",
   "execution_count": 25,
   "id": "db6e5df5-261f-459e-850e-47d77c2bc84c",
   "metadata": {},
   "outputs": [
    {
     "name": "stdout",
     "output_type": "stream",
     "text": [
      "2\n",
      "3\n",
      "5\n",
      "7\n",
      "11\n",
      "13\n",
      "17\n",
      "19\n",
      "23\n",
      "29\n",
      "31\n",
      "37\n",
      "41\n",
      "43\n",
      "47\n",
      "53\n",
      "59\n",
      "61\n",
      "67\n",
      "71\n",
      "73\n",
      "79\n",
      "83\n",
      "89\n",
      "97\n",
      "101\n",
      "103\n",
      "107\n",
      "109\n",
      "113\n",
      "127\n",
      "131\n",
      "137\n",
      "139\n",
      "149\n",
      "151\n",
      "157\n",
      "163\n",
      "167\n",
      "173\n",
      "179\n",
      "181\n",
      "191\n",
      "193\n",
      "197\n",
      "199\n",
      "211\n",
      "223\n",
      "227\n",
      "229\n",
      "233\n",
      "239\n",
      "241\n",
      "251\n",
      "257\n",
      "263\n",
      "269\n",
      "271\n",
      "277\n",
      "281\n",
      "283\n",
      "293\n",
      "307\n",
      "311\n",
      "313\n",
      "317\n",
      "331\n",
      "337\n",
      "347\n",
      "349\n",
      "353\n",
      "359\n",
      "367\n",
      "373\n",
      "379\n",
      "383\n",
      "389\n",
      "397\n",
      "401\n",
      "409\n",
      "419\n",
      "421\n",
      "431\n",
      "433\n",
      "439\n",
      "443\n",
      "449\n",
      "457\n",
      "461\n",
      "463\n",
      "467\n",
      "479\n",
      "487\n",
      "491\n",
      "499\n",
      "503\n",
      "509\n",
      "521\n",
      "523\n",
      "541\n",
      "547\n",
      "557\n",
      "563\n",
      "569\n",
      "571\n",
      "577\n",
      "587\n",
      "593\n",
      "599\n",
      "601\n",
      "607\n",
      "613\n",
      "617\n",
      "619\n",
      "631\n",
      "641\n",
      "643\n",
      "647\n",
      "653\n",
      "659\n",
      "661\n",
      "673\n",
      "677\n",
      "683\n",
      "691\n",
      "701\n",
      "709\n",
      "719\n",
      "727\n",
      "733\n",
      "739\n",
      "743\n",
      "751\n",
      "757\n",
      "761\n",
      "769\n",
      "773\n",
      "787\n",
      "797\n",
      "809\n",
      "811\n",
      "821\n",
      "823\n",
      "827\n",
      "829\n",
      "839\n",
      "853\n",
      "857\n",
      "859\n",
      "863\n",
      "877\n",
      "881\n",
      "883\n",
      "887\n",
      "907\n",
      "911\n",
      "919\n",
      "929\n",
      "937\n",
      "941\n",
      "947\n",
      "953\n",
      "967\n",
      "971\n",
      "977\n",
      "983\n",
      "991\n",
      "997\n"
     ]
    }
   ],
   "source": [
    "def is_prime(n):\n",
    "    if n <= 1:\n",
    "        return False\n",
    "    if n <= 3:\n",
    "        return True\n",
    "    if n % 2 == 0 or n % 3 == 0:\n",
    "        return False\n",
    "    i = 5\n",
    "    while i * i <= n:\n",
    "        if n % i == 0 or n % (i + 2) == 0:\n",
    "            return False\n",
    "        i += 6\n",
    "    return True\n",
    "\n",
    "def prime_generator():\n",
    "    for number in range(2, 1000):\n",
    "        if is_prime(number):\n",
    "            yield number\n",
    "\n",
    "# Create a generator object\n",
    "prime_gen = prime_generator()\n",
    "\n",
    "# Print prime numbers less than 1000\n",
    "for prime in prime_gen:\n",
    "    print(prime)\n"
   ]
  },
  {
   "cell_type": "code",
   "execution_count": 29,
   "id": "e1fce291-1564-4740-989b-0064567ff4ca",
   "metadata": {},
   "outputs": [
    {
     "name": "stdout",
     "output_type": "stream",
     "text": [
      "2\n",
      "3\n",
      "5\n",
      "7\n",
      "11\n",
      "13\n",
      "17\n",
      "19\n",
      "23\n",
      "29\n",
      "31\n",
      "37\n",
      "41\n",
      "43\n",
      "47\n",
      "53\n",
      "59\n",
      "61\n",
      "67\n",
      "71\n"
     ]
    }
   ],
   "source": [
    "def is_prime(n):\n",
    "    if n <= 1:\n",
    "        return False\n",
    "    if n <= 3:\n",
    "        return True\n",
    "    if n % 2 == 0 or n % 3 == 0:\n",
    "        return False\n",
    "    i = 5\n",
    "    while i * i <= n:\n",
    "        if n % i == 0 or n % (i + 2) == 0:\n",
    "            return False\n",
    "        i += 6\n",
    "    return True\n",
    "\n",
    "def prime_generator():\n",
    "    for number in range(2, 1000):\n",
    "        if is_prime(number):\n",
    "            yield number\n",
    "\n",
    "# Create a generator object\n",
    "prime_gen = prime_generator()\n",
    "\n",
    "# Print the first 20 prime numbers\n",
    "for _ in range(20):\n",
    "    prime = next(prime_gen)\n",
    "    print(prime)\n"
   ]
  },
  {
   "cell_type": "code",
   "execution_count": 30,
   "id": "bd237229-2a35-4f4f-bfc1-da081f7a0ccc",
   "metadata": {},
   "outputs": [],
   "source": [
    "# answer 6"
   ]
  },
  {
   "cell_type": "code",
   "execution_count": 5,
   "id": "207929fa-1c03-4980-952e-e0ea0f78977e",
   "metadata": {},
   "outputs": [
    {
     "data": {
      "text/plain": [
       "range(0, 10)"
      ]
     },
     "execution_count": 5,
     "metadata": {},
     "output_type": "execute_result"
    }
   ],
   "source": [
    "range(10)"
   ]
  },
  {
   "cell_type": "code",
   "execution_count": 9,
   "id": "84e7b32f-41ef-45de-81f0-0725960bf8f1",
   "metadata": {},
   "outputs": [],
   "source": [
    "def test_fib1():\n",
    "    a,b=0,1\n",
    "    while True:\n",
    "        yield a\n",
    "        a,b=b , a+b"
   ]
  },
  {
   "cell_type": "code",
   "execution_count": 11,
   "id": "0aed920d-7088-4eac-994a-a60842ba16a9",
   "metadata": {},
   "outputs": [],
   "source": [
    "fib = test_fib1()"
   ]
  },
  {
   "cell_type": "code",
   "execution_count": 12,
   "id": "27d63b9b-edba-4a25-a74d-25b6eb7c9c31",
   "metadata": {},
   "outputs": [
    {
     "name": "stdout",
     "output_type": "stream",
     "text": [
      "0\n",
      "1\n",
      "1\n",
      "2\n",
      "3\n",
      "5\n",
      "8\n",
      "13\n",
      "21\n",
      "34\n"
     ]
    }
   ],
   "source": [
    "for i in range (10):\n",
    "    print (next(fib))"
   ]
  },
  {
   "cell_type": "code",
   "execution_count": 16,
   "id": "4e5b8ea0-b026-47bf-b597-875db82126d5",
   "metadata": {},
   "outputs": [],
   "source": [
    "# answer 7"
   ]
  },
  {
   "cell_type": "code",
   "execution_count": 14,
   "id": "d6261638-00d9-40d6-98a5-08cb2103bc02",
   "metadata": {},
   "outputs": [],
   "source": [
    "s= 'pwskills'"
   ]
  },
  {
   "cell_type": "code",
   "execution_count": 15,
   "id": "8fe06241-403b-405b-89ec-a0fd5ec028e4",
   "metadata": {},
   "outputs": [
    {
     "name": "stdout",
     "output_type": "stream",
     "text": [
      "['p', 'w', 's', 'k', 'i', 'l', 'l', 's']\n"
     ]
    }
   ],
   "source": [
    "character_list= [char for char in s]\n",
    "print(character_list)"
   ]
  },
  {
   "cell_type": "code",
   "execution_count": 17,
   "id": "c3621ca1-992a-4380-8705-569479f67495",
   "metadata": {},
   "outputs": [],
   "source": [
    "# answer 8"
   ]
  },
  {
   "cell_type": "code",
   "execution_count": 20,
   "id": "d7127507-000f-4d03-b460-f6586b21957e",
   "metadata": {},
   "outputs": [
    {
     "name": "stdin",
     "output_type": "stream",
     "text": [
      "Enter a number:  55\n"
     ]
    },
    {
     "name": "stdout",
     "output_type": "stream",
     "text": [
      "55 is a palindrome.\n"
     ]
    }
   ],
   "source": [
    "def is_palindrome(number):\n",
    "    original_number = number\n",
    "    reversed_number = 0\n",
    "\n",
    "    while number > 0:\n",
    "        remainder = number % 10\n",
    "        reversed_number = reversed_number * 10 + remainder\n",
    "        number //= 10\n",
    "\n",
    "    return original_number == reversed_number\n",
    "\n",
    "\n",
    "num = int(input(\"Enter a number: \"))\n",
    "\n",
    "if is_palindrome(num):\n",
    "    print(f\"{num} is a palindrome.\")\n",
    "else:\n",
    "    print(f\"{num} is not a palindrome.\")\n"
   ]
  },
  {
   "cell_type": "code",
   "execution_count": 21,
   "id": "c95eb380-8cee-48a9-a938-0d8054949a47",
   "metadata": {},
   "outputs": [],
   "source": [
    "# answer 9"
   ]
  },
  {
   "cell_type": "code",
   "execution_count": 22,
   "id": "d3b92d26-b39e-4566-96c1-91559647b5fd",
   "metadata": {},
   "outputs": [
    {
     "data": {
      "text/plain": [
       "range(1, 101)"
      ]
     },
     "execution_count": 22,
     "metadata": {},
     "output_type": "execute_result"
    }
   ],
   "source": [
    "range(1,101)"
   ]
  },
  {
   "cell_type": "code",
   "execution_count": 23,
   "id": "75dc2aef-5dc5-4f57-b476-776880f37489",
   "metadata": {},
   "outputs": [
    {
     "name": "stdout",
     "output_type": "stream",
     "text": [
      "[1, 3, 5, 7, 9, 11, 13, 15, 17, 19, 21, 23, 25, 27, 29, 31, 33, 35, 37, 39, 41, 43, 45, 47, 49, 51, 53, 55, 57, 59, 61, 63, 65, 67, 69, 71, 73, 75, 77, 79, 81, 83, 85, 87, 89, 91, 93, 95, 97, 99]\n"
     ]
    }
   ],
   "source": [
    "odd_numbers = [num for num in range(1, 101) if num % 2 != 0]\n",
    "print(odd_numbers)\n"
   ]
  },
  {
   "cell_type": "code",
   "execution_count": null,
   "id": "acec1f7b-6cae-420c-8a8c-c5b35131907f",
   "metadata": {},
   "outputs": [],
   "source": []
  }
 ],
 "metadata": {
  "kernelspec": {
   "display_name": "Python 3 (ipykernel)",
   "language": "python",
   "name": "python3"
  },
  "language_info": {
   "codemirror_mode": {
    "name": "ipython",
    "version": 3
   },
   "file_extension": ".py",
   "mimetype": "text/x-python",
   "name": "python",
   "nbconvert_exporter": "python",
   "pygments_lexer": "ipython3",
   "version": "3.10.8"
  }
 },
 "nbformat": 4,
 "nbformat_minor": 5
}
