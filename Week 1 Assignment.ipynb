{
 "cells": [
  {
   "cell_type": "code",
   "execution_count": 1,
   "id": "cac586d7-c27c-46b6-a1c4-1071282d70ff",
   "metadata": {},
   "outputs": [],
   "source": [
    "## Q1. Create one variable containing following type of data:\n",
    "## (i) string\n",
    "## (ii) list\n",
    "## (iii) float\n",
    "## (iv) tuple"
   ]
  },
  {
   "cell_type": "code",
   "execution_count": 4,
   "id": "e02e3a0a-5cdc-427c-89ed-60494bf64c99",
   "metadata": {},
   "outputs": [],
   "source": [
    "## 1(i)\n",
    "string = \"Hello, this is a Ambesh.\""
   ]
  },
  {
   "cell_type": "code",
   "execution_count": 5,
   "id": "d345c04a-8b70-48a9-93a3-43a0467619df",
   "metadata": {},
   "outputs": [],
   "source": [
    "##1(i)\n",
    "list = [1, 2, 3, 4, 5]"
   ]
  },
  {
   "cell_type": "code",
   "execution_count": 6,
   "id": "41830ccc-868e-4a5c-a695-50ac85bac371",
   "metadata": {},
   "outputs": [],
   "source": [
    "## 1(iii)\n",
    "float = 3.14"
   ]
  },
  {
   "cell_type": "code",
   "execution_count": 7,
   "id": "cb23e3ed-783b-4afb-acc5-d981c6795a07",
   "metadata": {},
   "outputs": [],
   "source": [
    "## 1(iv)\n",
    "tuple = (10, 20, 30, 40, 50)"
   ]
  },
  {
   "cell_type": "code",
   "execution_count": 8,
   "id": "dcaf2193-2fff-4423-a7b1-8181d844df94",
   "metadata": {},
   "outputs": [],
   "source": [
    "##  Q2. Given are some following variables containing data:\n",
    "## (i) var1 = ‘ ‘\n",
    "## (ii) var2 = ‘[ DS , ML , Python]’\n",
    "## (iii) var3 = [ ‘DS’ , ’ML’ , ‘Python’ ]\n",
    "## (iv) var4 = 1.\n",
    "##   What will be the data type of the above given variable."
   ]
  },
  {
   "cell_type": "code",
   "execution_count": 9,
   "id": "9c7041c3-6906-4321-aabf-0a31c4133d93",
   "metadata": {},
   "outputs": [],
   "source": [
    "## (i) var1 = ' ': This is a string and its data type is str.\n",
    "\n",
    "## (ii) var2 = '[ DS , ML , Python]': This is also a string  and its data type is str.\n",
    "\n",
    "## (iii) var3 = ['DS', 'ML', 'Python']: This is a list and its data type is list.\n",
    "\n",
    "## (iv) var4 = 1.0: This is a float and its data type is float.\n",
    "\n",
    "##   The data types of the variables are str, str, list, and float."
   ]
  },
  {
   "cell_type": "code",
   "execution_count": 10,
   "id": "41eb1602-f376-4e69-bc4c-16d1cc5e50b9",
   "metadata": {},
   "outputs": [],
   "source": [
    "## Q3. Explain the use of the following operators using an example:\n",
    "## (i) /\n",
    "## (ii) %\n",
    "## (iii) //\n",
    "## (iv) **"
   ]
  },
  {
   "cell_type": "code",
   "execution_count": 13,
   "id": "e8176305-74d7-4658-8de2-8d826bed0f95",
   "metadata": {},
   "outputs": [
    {
     "name": "stdout",
     "output_type": "stream",
     "text": [
      "3.3333333333333335\n"
     ]
    }
   ],
   "source": [
    "## (i) / = Division Operator\n",
    "result = 10 / 3\n",
    "print(result)  \n"
   ]
  },
  {
   "cell_type": "code",
   "execution_count": 14,
   "id": "e35930ea-3a1c-4028-907d-4a44eaba720f",
   "metadata": {},
   "outputs": [
    {
     "name": "stdout",
     "output_type": "stream",
     "text": [
      "1\n"
     ]
    }
   ],
   "source": [
    "## (ii) % = Modulus Operator\n",
    "remainder = 10 % 3\n",
    "print(remainder) \n",
    "\n"
   ]
  },
  {
   "cell_type": "code",
   "execution_count": 15,
   "id": "aba31b5a-f154-4ca0-a020-6becdf45d346",
   "metadata": {},
   "outputs": [
    {
     "name": "stdout",
     "output_type": "stream",
     "text": [
      "3\n"
     ]
    }
   ],
   "source": [
    "## (iii) // = Floor Division Operator\n",
    "result = 10 // 3\n",
    "print(result)  \n",
    "\n"
   ]
  },
  {
   "cell_type": "code",
   "execution_count": 16,
   "id": "09fd0e9b-1af0-4562-bcea-9a323449b36e",
   "metadata": {},
   "outputs": [
    {
     "name": "stdout",
     "output_type": "stream",
     "text": [
      "8\n"
     ]
    }
   ],
   "source": [
    "## (iv) ** = Exponentiation Operator\n",
    "result = 2 ** 3\n",
    "print(result) \n"
   ]
  },
  {
   "cell_type": "code",
   "execution_count": 17,
   "id": "11e7be9b-66e2-4e7c-aef0-1f2ee6f855df",
   "metadata": {},
   "outputs": [],
   "source": [
    "## Q4. Create a list of length 10 of your choice containing multiple types of data. Using for loop print the\n",
    "##     element and its data type."
   ]
  },
  {
   "cell_type": "code",
   "execution_count": 20,
   "id": "51e649ce-d35f-4124-b2df-cfc1098d3c5c",
   "metadata": {},
   "outputs": [
    {
     "name": "stdout",
     "output_type": "stream",
     "text": [
      "Element: 1, Data Type: <class 'int'>\n",
      "Element: 3.14, Data Type: <class 'float'>\n",
      "Element: PW, Data Type: <class 'str'>\n",
      "Element: [1, 2, 3], Data Type: <class 'list'>\n",
      "Element: {'name': 'shiv', 'age': 22}, Data Type: <class 'dict'>\n",
      "Element: True, Data Type: <class 'bool'>\n",
      "Element: None, Data Type: <class 'NoneType'>\n",
      "Element: (5, 6), Data Type: <class 'tuple'>\n",
      "Element: 8.8, Data Type: <class 'float'>\n",
      "Element: World, Data Type: <class 'str'>\n"
     ]
    }
   ],
   "source": [
    "my_list = [1, 3.14, \"PW\", [1, 2, 3], {\"name\": \"shiv\", \"age\": 22}, True, None, (5, 6), 8.8, \"World\"]\n",
    "for item in my_list:\n",
    "    print(f\"Element: {item}, Data Type: {type(item)}\")\n",
    "\n",
    "\n"
   ]
  },
  {
   "cell_type": "code",
   "execution_count": 21,
   "id": "2bdb55cd-ac22-408d-913a-c5a2200fb4c2",
   "metadata": {},
   "outputs": [],
   "source": [
    "## Q5. Using a while loop, verify if the number A is purely divisible by number B and if so then how many\n",
    "##     times it can be divisible."
   ]
  },
  {
   "cell_type": "code",
   "execution_count": 22,
   "id": "90dba65b-a6d5-4365-b6bd-9ee0b1847f6a",
   "metadata": {},
   "outputs": [
    {
     "name": "stdin",
     "output_type": "stream",
     "text": [
      "Enter number A:  10\n",
      "Enter number B:  5\n"
     ]
    },
    {
     "name": "stdout",
     "output_type": "stream",
     "text": [
      "2.0 is purely divisible by 5 1 times.\n"
     ]
    }
   ],
   "source": [
    "A = int(input(\"Enter number A: \"))\n",
    "B = int(input(\"Enter number B: \"))\n",
    "\n",
    "count = 0\n",
    "\n",
    "while A % B == 0:\n",
    "    A = A / B\n",
    "    count += 1\n",
    "\n",
    "if count > 0:\n",
    "    print(f\"{A} is purely divisible by {B} {count} times.\")\n",
    "else:\n",
    "    print(f\"{A} is not purely divisible by {B}.\")"
   ]
  },
  {
   "cell_type": "code",
   "execution_count": 23,
   "id": "b9ede97c-3ca4-4cdb-a3aa-5d8e213741b8",
   "metadata": {},
   "outputs": [],
   "source": [
    "## Q6. Create a list containing 25 int type data. Using for loop and if-else condition print if the element is\n",
    "## divisible by 3 or not."
   ]
  },
  {
   "cell_type": "code",
   "execution_count": 24,
   "id": "ae5b3e7f-c9ce-4754-96b8-a79fb152fada",
   "metadata": {},
   "outputs": [
    {
     "name": "stdout",
     "output_type": "stream",
     "text": [
      "15 is divisible by 3.\n",
      "6 is divisible by 3.\n",
      "9 is divisible by 3.\n",
      "8 is not divisible by 3.\n",
      "12 is divisible by 3.\n",
      "18 is divisible by 3.\n",
      "7 is not divisible by 3.\n",
      "11 is not divisible by 3.\n",
      "21 is divisible by 3.\n",
      "30 is divisible by 3.\n",
      "5 is not divisible by 3.\n",
      "33 is divisible by 3.\n",
      "42 is divisible by 3.\n",
      "13 is not divisible by 3.\n",
      "22 is not divisible by 3.\n",
      "24 is divisible by 3.\n",
      "3 is divisible by 3.\n",
      "19 is not divisible by 3.\n",
      "27 is divisible by 3.\n",
      "36 is divisible by 3.\n",
      "17 is not divisible by 3.\n",
      "14 is not divisible by 3.\n",
      "25 is not divisible by 3.\n",
      "10 is not divisible by 3.\n",
      "31 is not divisible by 3.\n"
     ]
    }
   ],
   "source": [
    "list = [15, 6, 9, 8, 12, 18, 7, 11, 21, 30, 5, 33, 42, 13, 22, 24, 3, 19, 27, 36, 17, 14, 25, 10, 31]\n",
    "\n",
    "for num in list:\n",
    "    if num % 3 == 0:\n",
    "        print(f\"{num} is divisible by 3.\")\n",
    "    else:\n",
    "        print(f\"{num} is not divisible by 3.\")"
   ]
  },
  {
   "cell_type": "code",
   "execution_count": 25,
   "id": "99a5cdc2-547c-4abb-9e80-eb3fcc7d9a1b",
   "metadata": {},
   "outputs": [],
   "source": [
    "## Q7. What do you understand about mutable and immutable data types? Give examples for both showing\n",
    "## this property."
   ]
  },
  {
   "cell_type": "code",
   "execution_count": 26,
   "id": "a7dd9bc0-f051-4774-bd44-8334e48b66e3",
   "metadata": {},
   "outputs": [],
   "source": [
    "##     Mutable data types can be modified after they are created.\n",
    "##     Immutable data types cannot be changed after they are created. Any operation that seems to modify an immutable object \n",
    "##     actually creates a new object."
   ]
  },
  {
   "cell_type": "code",
   "execution_count": 41,
   "id": "88aebc4c-ce04-4aed-b0bd-2310d2374eba",
   "metadata": {},
   "outputs": [],
   "source": [
    " l = [1, 2, 3]\n",
    "    ## Mutable"
   ]
  },
  {
   "cell_type": "code",
   "execution_count": 40,
   "id": "14a0a5ed-545c-46cf-be41-44053777a984",
   "metadata": {},
   "outputs": [
    {
     "name": "stdout",
     "output_type": "stream",
     "text": [
      "[1, 2, 3, 4]\n"
     ]
    }
   ],
   "source": [
    "l.append(4)\n",
    "print(l)"
   ]
  },
  {
   "cell_type": "code",
   "execution_count": 42,
   "id": "e97f3736-5fa6-417c-8e07-10ed0db9634a",
   "metadata": {},
   "outputs": [],
   "source": [
    "s = \"Hello\"\n",
    "## Immutable"
   ]
  },
  {
   "cell_type": "code",
   "execution_count": 43,
   "id": "2efe75aa-665b-4bab-8551-376981ca69d4",
   "metadata": {},
   "outputs": [
    {
     "name": "stdout",
     "output_type": "stream",
     "text": [
      "HelloBro\n"
     ]
    }
   ],
   "source": [
    "s2= s+\"Bro\"\n",
    "print(s2)"
   ]
  },
  {
   "cell_type": "code",
   "execution_count": null,
   "id": "b6a010b7-8c4f-41da-98fd-a453b0b6266e",
   "metadata": {},
   "outputs": [],
   "source": []
  }
 ],
 "metadata": {
  "kernelspec": {
   "display_name": "Python 3 (ipykernel)",
   "language": "python",
   "name": "python3"
  },
  "language_info": {
   "codemirror_mode": {
    "name": "ipython",
    "version": 3
   },
   "file_extension": ".py",
   "mimetype": "text/x-python",
   "name": "python",
   "nbconvert_exporter": "python",
   "pygments_lexer": "ipython3",
   "version": "3.10.8"
  }
 },
 "nbformat": 4,
 "nbformat_minor": 5
}
